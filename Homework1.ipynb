{
  "nbformat": 4,
  "nbformat_minor": 0,
  "metadata": {
    "colab": {
      "name": "Homework1.ipynb",
      "provenance": [],
      "toc_visible": true
    },
    "kernelspec": {
      "name": "python3",
      "display_name": "Python 3"
    },
    "language_info": {
      "name": "python"
    }
  },
  "cells": [
    {
      "cell_type": "code",
      "execution_count": 1,
      "metadata": {
        "colab": {
          "base_uri": "https://localhost:8080/"
        },
        "id": "jrVeHsm1rpdT",
        "outputId": "f3b960ad-c1ef-4fc1-b1f8-a9bb494eeb52"
      },
      "outputs": [
        {
          "output_type": "stream",
          "name": "stdout",
          "text": [
            "What is your name? zakir\n",
            "What is your age? 20\n",
            "My name is zakir. My age is 20\n"
          ]
        }
      ],
      "source": [
        "#Q1-Get your name and age as input and print it in the form like\n",
        "#Your name is Hulisi. Your age is 43\n",
        "name=input('What is your name? ')\n",
        "age=input('What is your age? ')\n",
        "print('My name is '+name+'. My age is '+age)"
      ]
    },
    {
      "cell_type": "code",
      "source": [
        "#Q2-Write a if statement for a given two number is equal or not\n",
        "a=43\n",
        "b=54\n",
        "if(a==b):\n",
        "  print('These numbers are equal')\n",
        "else:\n",
        "  print('These numbers are not equal')"
      ],
      "metadata": {
        "id": "7Sfg03_PuVWa",
        "outputId": "2901943b-2f50-45ea-802b-5853d4942a41",
        "colab": {
          "base_uri": "https://localhost:8080/"
        }
      },
      "execution_count": 2,
      "outputs": [
        {
          "output_type": "stream",
          "name": "stdout",
          "text": [
            "These numbers are not equal\n"
          ]
        }
      ]
    },
    {
      "cell_type": "code",
      "source": [
        "#Q3-Write a if statement for first number is greater (a), equal or less than second number.(b)\n",
        "a=43\n",
        "b=54\n",
        "if(a<b):\n",
        "  print('First number is greater than second number')\n",
        "elif(a==b):\n",
        "  print('First number is equal to second number')\n",
        "else:\n",
        "  print('First number is less than second number')"
      ],
      "metadata": {
        "id": "NtUibZ07u5gs",
        "outputId": "9e628272-0297-4304-e9bc-d7247a3d36c9",
        "colab": {
          "base_uri": "https://localhost:8080/"
        }
      },
      "execution_count": 3,
      "outputs": [
        {
          "output_type": "stream",
          "name": "stdout",
          "text": [
            "First number is greater than second number\n"
          ]
        }
      ]
    },
    {
      "cell_type": "code",
      "source": [
        "#Q4- Using for loop, print 1,2,3,4,5\n",
        "for k in range(1,6):\n",
        "  print(k)\n"
      ],
      "metadata": {
        "id": "U1UMQv36wNHP",
        "outputId": "19fb0ffa-4cc1-485b-9f93-e59f948436b4",
        "colab": {
          "base_uri": "https://localhost:8080/"
        }
      },
      "execution_count": 6,
      "outputs": [
        {
          "output_type": "stream",
          "name": "stdout",
          "text": [
            "1\n",
            "2\n",
            "3\n",
            "4\n",
            "5\n"
          ]
        }
      ]
    },
    {
      "cell_type": "code",
      "source": [
        "#Q5-Using while loop, print 5,4,3,2,1\n",
        "for k in range(5,0,-1):\n",
        "  print(k)"
      ],
      "metadata": {
        "id": "bh5Lga7XxGY8",
        "outputId": "061e1be6-10e3-462c-f436-c22652e04c72",
        "colab": {
          "base_uri": "https://localhost:8080/"
        }
      },
      "execution_count": 8,
      "outputs": [
        {
          "output_type": "stream",
          "name": "stdout",
          "text": [
            "5\n",
            "4\n",
            "3\n",
            "2\n",
            "1\n"
          ]
        }
      ]
    },
    {
      "cell_type": "code",
      "source": [
        "#Q6- Using for loop, print 10,6,4,2,0\n",
        "#Hint Print if number is not equal to 8.\n",
        "\n",
        "for k in range(10,-1,-2):\n",
        "  if(k!=8):\n",
        "    print(k)"
      ],
      "metadata": {
        "id": "cXTTDS49xSoi",
        "outputId": "2e1d2e1d-f837-4e40-a80b-317c025253b4",
        "colab": {
          "base_uri": "https://localhost:8080/"
        }
      },
      "execution_count": 9,
      "outputs": [
        {
          "output_type": "stream",
          "name": "stdout",
          "text": [
            "10\n",
            "6\n",
            "4\n",
            "2\n",
            "0\n"
          ]
        }
      ]
    },
    {
      "cell_type": "code",
      "source": [
        "#Q7-Write a method to calculate age for a given date of birth year.\n",
        "#Use this method on orer to calculate age of person if date of birth is 1944\n",
        "# if age is the name of function, print(age(1944))\n",
        "\n",
        "def age(birth_year):\n",
        "  return 2025-birth_year\n",
        "print(age(2004))"
      ],
      "metadata": {
        "id": "geUjb-vuyYbF",
        "outputId": "a5465e13-c196-4f5e-948e-263e603405a9",
        "colab": {
          "base_uri": "https://localhost:8080/"
        }
      },
      "execution_count": 11,
      "outputs": [
        {
          "output_type": "stream",
          "name": "stdout",
          "text": [
            "21\n"
          ]
        }
      ]
    },
    {
      "cell_type": "code",
      "source": [
        "#Q8-Write a class named arithmetic with method for calculating addition, substraction, multiplication and division of two numbers.\n",
        "class arithmetic:\n",
        "  def addition(x,y):\n",
        "    return x+y\n",
        "  def substraction(x,y):\n",
        "    return x+y\n",
        "  def multiplication(x,y):\n",
        "    return x+y\n",
        "  def division(x,y):\n",
        "    return x+y\n",
        "print(arithmetic.addition(3,4))\n",
        "print(arithmetic.addition(3,4))\n",
        "print(arithmetic.addition(3,4))\n",
        "print(arithmetic.addition(3,4))"
      ],
      "metadata": {
        "id": "YcyFzE3fzC7_",
        "outputId": "402acce8-0122-44ca-90aa-f938984aa1b5",
        "colab": {
          "base_uri": "https://localhost:8080/"
        }
      },
      "execution_count": null,
      "outputs": [
        {
          "output_type": "execute_result",
          "data": {
            "text/plain": [
              "7"
            ]
          },
          "metadata": {},
          "execution_count": 1
        }
      ]
    },
    {
      "cell_type": "code",
      "source": [
        "#Q9- write a for loop or method  to calculate summation of first n numbers\n",
        "#i.e if n=3, it will print or return 6 (1+2+3)\n",
        "\n",
        "def summation(n):\n",
        "    total = 0\n",
        "    for i in range(1, n + 1):\n",
        "        total += i\n",
        "    return total\n",
        "\n",
        "n = 4\n",
        "print(summation(n))"
      ],
      "metadata": {
        "id": "AUJWr5YqzadI",
        "outputId": "04db4b58-1119-4a03-8c12-54855c747dc0",
        "colab": {
          "base_uri": "https://localhost:8080/"
        }
      },
      "execution_count": 12,
      "outputs": [
        {
          "output_type": "stream",
          "name": "stdout",
          "text": [
            "10\n"
          ]
        }
      ]
    },
    {
      "cell_type": "code",
      "source": [
        "#Q10-Generate 10 numbers between 0 and 1 and add into list. Print first three elements of that list.\n",
        "\n",
        "#Q9- write a for loop or method  to calculate summation of first n numbers\n",
        "#i.e if n=3, it will print or return 6 (1+2+3)\n",
        "import random\n",
        "random_numbers = [random.random() for _ in range(10)]\n",
        "\n",
        "number_list = random_numbers\n",
        "\n",
        "print(number_list[:3])"
      ],
      "metadata": {
        "id": "hmtvJdCL02qx",
        "outputId": "7bef473c-29b7-4570-823c-4eb50634f01d",
        "colab": {
          "base_uri": "https://localhost:8080/"
        }
      },
      "execution_count": 14,
      "outputs": [
        {
          "output_type": "stream",
          "name": "stdout",
          "text": [
            "[0.8582206646085385, 0.15788903793027553, 0.5475112815703511]\n"
          ]
        }
      ]
    },
    {
      "cell_type": "code",
      "source": [
        "#Q11-For a given number n, print numbers divisible by 3 up to that number(n included)\n",
        "#Example: if n=15, print 3,6,9,12,15\n",
        "#Hint you can use modulus statement (if (i%3==0))\n",
        "def print_divisible_by_3(n):\n",
        "    for i in range(1, n + 1):\n",
        "        if i % 3 == 0:\n",
        "            print(i, end=\", \")\n",
        "\n",
        "n = int(input(\"Enter a number: \"))\n",
        "print_divisible_by_3(n)"
      ],
      "metadata": {
        "id": "5O6Y2CujcAAs",
        "outputId": "44309a28-4c7a-4bd8-f52f-ccdc19e1f6f2",
        "colab": {
          "base_uri": "https://localhost:8080/"
        }
      },
      "execution_count": 15,
      "outputs": [
        {
          "output_type": "stream",
          "name": "stdout",
          "text": [
            "Enter a number: 15\n",
            "3, 6, 9, 12, 15, "
          ]
        }
      ]
    }
  ]
}