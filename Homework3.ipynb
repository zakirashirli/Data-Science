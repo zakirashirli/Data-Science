{
  "nbformat": 4,
  "nbformat_minor": 0,
  "metadata": {
    "colab": {
      "name": "Homework3.ipynb",
      "provenance": []
    },
    "kernelspec": {
      "name": "python3",
      "display_name": "Python 3"
    },
    "language_info": {
      "name": "python"
    }
  },
  "cells": [
    {
      "cell_type": "code",
      "execution_count": 4,
      "metadata": {
        "id": "hTfxaTM5jqZY"
      },
      "outputs": [],
      "source": [
        "import pandas as pd\n",
        "import numpy as np\n",
        "import matplotlib.pyplot as plt\n",
        "import seaborn as sns"
      ]
    },
    {
      "cell_type": "code",
      "source": [
        "#Q1-Read the data https://raw.githubusercontent.com/ogut77/DataScience/main/data/diamond.csv"
      ],
      "metadata": {
        "id": "T8jnje1Il-St"
      },
      "execution_count": 5,
      "outputs": []
    },
    {
      "cell_type": "markdown",
      "source": [
        "The description of dataset is given below.\n",
        "\n",
        "•\tID: Uniquely identifies each observation (diamond)\n",
        "\n",
        "•\tCarat Weight: The weight of the diamond in metric carats. One carat is equal to 0.2 grams, roughly the same weight as a paperclip\n",
        "\n",
        "•\tCut: One of five values indicating the cut of the diamond in the following order of desirability (Signature-Ideal, Ideal, Very Good, Good, Fair)\n",
        "\n",
        "•\tColor: One of six values indicating the diamond's color in the following order of desirability (D, E, F - Colorless, G, H, I - Near colorless)\n",
        "\n",
        "•\tClarity: One of seven values indicating the diamond's clarity in the following order of desirability (F - Flawless, IF - Internally Flawless, VVS1 or VVS2 - Very, Very Slightly Included, or VS1 or VS2 - Very Slightly Included, SI1 - Slightly Included)\n",
        "\n",
        "•\tPolish: One of four values indicating the diamond's polish (ID - Ideal, EX - Excellent, VG - Very Good, G - Good)\n",
        "\n",
        "•\tSymmetry: One of four values indicating the diamond's symmetry (ID - Ideal, EX - Excellent, VG - Very Good, G - Good)\n",
        "\n",
        "•\tReport: One of of two values \"AGSL\" or \"GIA\" indicating which grading agency reported the qualities of the diamond qualities\n",
        "\n",
        "•\tPrice: The The amount in USD that the diamond is valued\n"
      ],
      "metadata": {
        "id": "BuaIQNSwKfh7"
      }
    },
    {
      "cell_type": "code",
      "source": [
        "#Q2-Get first 2 rows of data\n",
        "pd.read_csv('https://raw.githubusercontent.com/ogut77/DataScience/main/data/diamond.csv').head(2)"
      ],
      "metadata": {
        "colab": {
          "base_uri": "https://localhost:8080/",
          "height": 112
        },
        "id": "3tA-6vOnlW-V",
        "outputId": "bcf83151-2b8c-47dc-fefa-e4716cdace57"
      },
      "execution_count": 6,
      "outputs": [
        {
          "output_type": "execute_result",
          "data": {
            "text/plain": [
              "   Carat Weight    Cut Color Clarity Polish Symmetry Report  Price\n",
              "0          1.10  Ideal     H     SI1     VG       EX    GIA   5169\n",
              "1          0.83  Ideal     H     VS1     ID       ID   AGSL   3470"
            ],
            "text/html": [
              "\n",
              "  <div id=\"df-f4dc3686-ac6f-4d7e-bf7d-a11a5f87c05f\" class=\"colab-df-container\">\n",
              "    <div>\n",
              "<style scoped>\n",
              "    .dataframe tbody tr th:only-of-type {\n",
              "        vertical-align: middle;\n",
              "    }\n",
              "\n",
              "    .dataframe tbody tr th {\n",
              "        vertical-align: top;\n",
              "    }\n",
              "\n",
              "    .dataframe thead th {\n",
              "        text-align: right;\n",
              "    }\n",
              "</style>\n",
              "<table border=\"1\" class=\"dataframe\">\n",
              "  <thead>\n",
              "    <tr style=\"text-align: right;\">\n",
              "      <th></th>\n",
              "      <th>Carat Weight</th>\n",
              "      <th>Cut</th>\n",
              "      <th>Color</th>\n",
              "      <th>Clarity</th>\n",
              "      <th>Polish</th>\n",
              "      <th>Symmetry</th>\n",
              "      <th>Report</th>\n",
              "      <th>Price</th>\n",
              "    </tr>\n",
              "  </thead>\n",
              "  <tbody>\n",
              "    <tr>\n",
              "      <th>0</th>\n",
              "      <td>1.10</td>\n",
              "      <td>Ideal</td>\n",
              "      <td>H</td>\n",
              "      <td>SI1</td>\n",
              "      <td>VG</td>\n",
              "      <td>EX</td>\n",
              "      <td>GIA</td>\n",
              "      <td>5169</td>\n",
              "    </tr>\n",
              "    <tr>\n",
              "      <th>1</th>\n",
              "      <td>0.83</td>\n",
              "      <td>Ideal</td>\n",
              "      <td>H</td>\n",
              "      <td>VS1</td>\n",
              "      <td>ID</td>\n",
              "      <td>ID</td>\n",
              "      <td>AGSL</td>\n",
              "      <td>3470</td>\n",
              "    </tr>\n",
              "  </tbody>\n",
              "</table>\n",
              "</div>\n",
              "    <div class=\"colab-df-buttons\">\n",
              "\n",
              "  <div class=\"colab-df-container\">\n",
              "    <button class=\"colab-df-convert\" onclick=\"convertToInteractive('df-f4dc3686-ac6f-4d7e-bf7d-a11a5f87c05f')\"\n",
              "            title=\"Convert this dataframe to an interactive table.\"\n",
              "            style=\"display:none;\">\n",
              "\n",
              "  <svg xmlns=\"http://www.w3.org/2000/svg\" height=\"24px\" viewBox=\"0 -960 960 960\">\n",
              "    <path d=\"M120-120v-720h720v720H120Zm60-500h600v-160H180v160Zm220 220h160v-160H400v160Zm0 220h160v-160H400v160ZM180-400h160v-160H180v160Zm440 0h160v-160H620v160ZM180-180h160v-160H180v160Zm440 0h160v-160H620v160Z\"/>\n",
              "  </svg>\n",
              "    </button>\n",
              "\n",
              "  <style>\n",
              "    .colab-df-container {\n",
              "      display:flex;\n",
              "      gap: 12px;\n",
              "    }\n",
              "\n",
              "    .colab-df-convert {\n",
              "      background-color: #E8F0FE;\n",
              "      border: none;\n",
              "      border-radius: 50%;\n",
              "      cursor: pointer;\n",
              "      display: none;\n",
              "      fill: #1967D2;\n",
              "      height: 32px;\n",
              "      padding: 0 0 0 0;\n",
              "      width: 32px;\n",
              "    }\n",
              "\n",
              "    .colab-df-convert:hover {\n",
              "      background-color: #E2EBFA;\n",
              "      box-shadow: 0px 1px 2px rgba(60, 64, 67, 0.3), 0px 1px 3px 1px rgba(60, 64, 67, 0.15);\n",
              "      fill: #174EA6;\n",
              "    }\n",
              "\n",
              "    .colab-df-buttons div {\n",
              "      margin-bottom: 4px;\n",
              "    }\n",
              "\n",
              "    [theme=dark] .colab-df-convert {\n",
              "      background-color: #3B4455;\n",
              "      fill: #D2E3FC;\n",
              "    }\n",
              "\n",
              "    [theme=dark] .colab-df-convert:hover {\n",
              "      background-color: #434B5C;\n",
              "      box-shadow: 0px 1px 3px 1px rgba(0, 0, 0, 0.15);\n",
              "      filter: drop-shadow(0px 1px 2px rgba(0, 0, 0, 0.3));\n",
              "      fill: #FFFFFF;\n",
              "    }\n",
              "  </style>\n",
              "\n",
              "    <script>\n",
              "      const buttonEl =\n",
              "        document.querySelector('#df-f4dc3686-ac6f-4d7e-bf7d-a11a5f87c05f button.colab-df-convert');\n",
              "      buttonEl.style.display =\n",
              "        google.colab.kernel.accessAllowed ? 'block' : 'none';\n",
              "\n",
              "      async function convertToInteractive(key) {\n",
              "        const element = document.querySelector('#df-f4dc3686-ac6f-4d7e-bf7d-a11a5f87c05f');\n",
              "        const dataTable =\n",
              "          await google.colab.kernel.invokeFunction('convertToInteractive',\n",
              "                                                    [key], {});\n",
              "        if (!dataTable) return;\n",
              "\n",
              "        const docLinkHtml = 'Like what you see? Visit the ' +\n",
              "          '<a target=\"_blank\" href=https://colab.research.google.com/notebooks/data_table.ipynb>data table notebook</a>'\n",
              "          + ' to learn more about interactive tables.';\n",
              "        element.innerHTML = '';\n",
              "        dataTable['output_type'] = 'display_data';\n",
              "        await google.colab.output.renderOutput(dataTable, element);\n",
              "        const docLink = document.createElement('div');\n",
              "        docLink.innerHTML = docLinkHtml;\n",
              "        element.appendChild(docLink);\n",
              "      }\n",
              "    </script>\n",
              "  </div>\n",
              "\n",
              "\n",
              "<div id=\"df-b8994623-393a-4d43-9af8-e004c8fd2f4d\">\n",
              "  <button class=\"colab-df-quickchart\" onclick=\"quickchart('df-b8994623-393a-4d43-9af8-e004c8fd2f4d')\"\n",
              "            title=\"Suggest charts\"\n",
              "            style=\"display:none;\">\n",
              "\n",
              "<svg xmlns=\"http://www.w3.org/2000/svg\" height=\"24px\"viewBox=\"0 0 24 24\"\n",
              "     width=\"24px\">\n",
              "    <g>\n",
              "        <path d=\"M19 3H5c-1.1 0-2 .9-2 2v14c0 1.1.9 2 2 2h14c1.1 0 2-.9 2-2V5c0-1.1-.9-2-2-2zM9 17H7v-7h2v7zm4 0h-2V7h2v10zm4 0h-2v-4h2v4z\"/>\n",
              "    </g>\n",
              "</svg>\n",
              "  </button>\n",
              "\n",
              "<style>\n",
              "  .colab-df-quickchart {\n",
              "      --bg-color: #E8F0FE;\n",
              "      --fill-color: #1967D2;\n",
              "      --hover-bg-color: #E2EBFA;\n",
              "      --hover-fill-color: #174EA6;\n",
              "      --disabled-fill-color: #AAA;\n",
              "      --disabled-bg-color: #DDD;\n",
              "  }\n",
              "\n",
              "  [theme=dark] .colab-df-quickchart {\n",
              "      --bg-color: #3B4455;\n",
              "      --fill-color: #D2E3FC;\n",
              "      --hover-bg-color: #434B5C;\n",
              "      --hover-fill-color: #FFFFFF;\n",
              "      --disabled-bg-color: #3B4455;\n",
              "      --disabled-fill-color: #666;\n",
              "  }\n",
              "\n",
              "  .colab-df-quickchart {\n",
              "    background-color: var(--bg-color);\n",
              "    border: none;\n",
              "    border-radius: 50%;\n",
              "    cursor: pointer;\n",
              "    display: none;\n",
              "    fill: var(--fill-color);\n",
              "    height: 32px;\n",
              "    padding: 0;\n",
              "    width: 32px;\n",
              "  }\n",
              "\n",
              "  .colab-df-quickchart:hover {\n",
              "    background-color: var(--hover-bg-color);\n",
              "    box-shadow: 0 1px 2px rgba(60, 64, 67, 0.3), 0 1px 3px 1px rgba(60, 64, 67, 0.15);\n",
              "    fill: var(--button-hover-fill-color);\n",
              "  }\n",
              "\n",
              "  .colab-df-quickchart-complete:disabled,\n",
              "  .colab-df-quickchart-complete:disabled:hover {\n",
              "    background-color: var(--disabled-bg-color);\n",
              "    fill: var(--disabled-fill-color);\n",
              "    box-shadow: none;\n",
              "  }\n",
              "\n",
              "  .colab-df-spinner {\n",
              "    border: 2px solid var(--fill-color);\n",
              "    border-color: transparent;\n",
              "    border-bottom-color: var(--fill-color);\n",
              "    animation:\n",
              "      spin 1s steps(1) infinite;\n",
              "  }\n",
              "\n",
              "  @keyframes spin {\n",
              "    0% {\n",
              "      border-color: transparent;\n",
              "      border-bottom-color: var(--fill-color);\n",
              "      border-left-color: var(--fill-color);\n",
              "    }\n",
              "    20% {\n",
              "      border-color: transparent;\n",
              "      border-left-color: var(--fill-color);\n",
              "      border-top-color: var(--fill-color);\n",
              "    }\n",
              "    30% {\n",
              "      border-color: transparent;\n",
              "      border-left-color: var(--fill-color);\n",
              "      border-top-color: var(--fill-color);\n",
              "      border-right-color: var(--fill-color);\n",
              "    }\n",
              "    40% {\n",
              "      border-color: transparent;\n",
              "      border-right-color: var(--fill-color);\n",
              "      border-top-color: var(--fill-color);\n",
              "    }\n",
              "    60% {\n",
              "      border-color: transparent;\n",
              "      border-right-color: var(--fill-color);\n",
              "    }\n",
              "    80% {\n",
              "      border-color: transparent;\n",
              "      border-right-color: var(--fill-color);\n",
              "      border-bottom-color: var(--fill-color);\n",
              "    }\n",
              "    90% {\n",
              "      border-color: transparent;\n",
              "      border-bottom-color: var(--fill-color);\n",
              "    }\n",
              "  }\n",
              "</style>\n",
              "\n",
              "  <script>\n",
              "    async function quickchart(key) {\n",
              "      const quickchartButtonEl =\n",
              "        document.querySelector('#' + key + ' button');\n",
              "      quickchartButtonEl.disabled = true;  // To prevent multiple clicks.\n",
              "      quickchartButtonEl.classList.add('colab-df-spinner');\n",
              "      try {\n",
              "        const charts = await google.colab.kernel.invokeFunction(\n",
              "            'suggestCharts', [key], {});\n",
              "      } catch (error) {\n",
              "        console.error('Error during call to suggestCharts:', error);\n",
              "      }\n",
              "      quickchartButtonEl.classList.remove('colab-df-spinner');\n",
              "      quickchartButtonEl.classList.add('colab-df-quickchart-complete');\n",
              "    }\n",
              "    (() => {\n",
              "      let quickchartButtonEl =\n",
              "        document.querySelector('#df-b8994623-393a-4d43-9af8-e004c8fd2f4d button');\n",
              "      quickchartButtonEl.style.display =\n",
              "        google.colab.kernel.accessAllowed ? 'block' : 'none';\n",
              "    })();\n",
              "  </script>\n",
              "</div>\n",
              "\n",
              "    </div>\n",
              "  </div>\n"
            ],
            "application/vnd.google.colaboratory.intrinsic+json": {
              "type": "dataframe",
              "summary": "{\n  \"name\": \"pd\",\n  \"rows\": 2,\n  \"fields\": [\n    {\n      \"column\": \"Carat Weight\",\n      \"properties\": {\n        \"dtype\": \"number\",\n        \"std\": 0.19091883092036793,\n        \"min\": 0.83,\n        \"max\": 1.1,\n        \"num_unique_values\": 2,\n        \"samples\": [\n          0.83,\n          1.1\n        ],\n        \"semantic_type\": \"\",\n        \"description\": \"\"\n      }\n    },\n    {\n      \"column\": \"Cut\",\n      \"properties\": {\n        \"dtype\": \"string\",\n        \"num_unique_values\": 1,\n        \"samples\": [\n          \"Ideal\"\n        ],\n        \"semantic_type\": \"\",\n        \"description\": \"\"\n      }\n    },\n    {\n      \"column\": \"Color\",\n      \"properties\": {\n        \"dtype\": \"string\",\n        \"num_unique_values\": 1,\n        \"samples\": [\n          \"H\"\n        ],\n        \"semantic_type\": \"\",\n        \"description\": \"\"\n      }\n    },\n    {\n      \"column\": \"Clarity\",\n      \"properties\": {\n        \"dtype\": \"string\",\n        \"num_unique_values\": 2,\n        \"samples\": [\n          \"VS1\"\n        ],\n        \"semantic_type\": \"\",\n        \"description\": \"\"\n      }\n    },\n    {\n      \"column\": \"Polish\",\n      \"properties\": {\n        \"dtype\": \"string\",\n        \"num_unique_values\": 2,\n        \"samples\": [\n          \"ID\"\n        ],\n        \"semantic_type\": \"\",\n        \"description\": \"\"\n      }\n    },\n    {\n      \"column\": \"Symmetry\",\n      \"properties\": {\n        \"dtype\": \"string\",\n        \"num_unique_values\": 2,\n        \"samples\": [\n          \"ID\"\n        ],\n        \"semantic_type\": \"\",\n        \"description\": \"\"\n      }\n    },\n    {\n      \"column\": \"Report\",\n      \"properties\": {\n        \"dtype\": \"string\",\n        \"num_unique_values\": 2,\n        \"samples\": [\n          \"AGSL\"\n        ],\n        \"semantic_type\": \"\",\n        \"description\": \"\"\n      }\n    },\n    {\n      \"column\": \"Price\",\n      \"properties\": {\n        \"dtype\": \"number\",\n        \"std\": 1201,\n        \"min\": 3470,\n        \"max\": 5169,\n        \"num_unique_values\": 2,\n        \"samples\": [\n          3470\n        ],\n        \"semantic_type\": \"\",\n        \"description\": \"\"\n      }\n    }\n  ]\n}"
            }
          },
          "metadata": {},
          "execution_count": 6
        }
      ]
    },
    {
      "cell_type": "code",
      "source": [
        "#Q3-Check if there is missing value\n",
        "pd.read_csv('https://raw.githubusercontent.com/ogut77/DataScience/main/data/diamond.csv').isnull().sum()"
      ],
      "metadata": {
        "id": "Km0DpQwUIj7O",
        "outputId": "fec59796-69b7-44a6-b48b-8d7177a0ebb5",
        "colab": {
          "base_uri": "https://localhost:8080/",
          "height": 335
        }
      },
      "execution_count": 7,
      "outputs": [
        {
          "output_type": "execute_result",
          "data": {
            "text/plain": [
              "Carat Weight    0\n",
              "Cut             0\n",
              "Color           0\n",
              "Clarity         0\n",
              "Polish          0\n",
              "Symmetry        0\n",
              "Report          0\n",
              "Price           0\n",
              "dtype: int64"
            ],
            "text/html": [
              "<div>\n",
              "<style scoped>\n",
              "    .dataframe tbody tr th:only-of-type {\n",
              "        vertical-align: middle;\n",
              "    }\n",
              "\n",
              "    .dataframe tbody tr th {\n",
              "        vertical-align: top;\n",
              "    }\n",
              "\n",
              "    .dataframe thead th {\n",
              "        text-align: right;\n",
              "    }\n",
              "</style>\n",
              "<table border=\"1\" class=\"dataframe\">\n",
              "  <thead>\n",
              "    <tr style=\"text-align: right;\">\n",
              "      <th></th>\n",
              "      <th>0</th>\n",
              "    </tr>\n",
              "  </thead>\n",
              "  <tbody>\n",
              "    <tr>\n",
              "      <th>Carat Weight</th>\n",
              "      <td>0</td>\n",
              "    </tr>\n",
              "    <tr>\n",
              "      <th>Cut</th>\n",
              "      <td>0</td>\n",
              "    </tr>\n",
              "    <tr>\n",
              "      <th>Color</th>\n",
              "      <td>0</td>\n",
              "    </tr>\n",
              "    <tr>\n",
              "      <th>Clarity</th>\n",
              "      <td>0</td>\n",
              "    </tr>\n",
              "    <tr>\n",
              "      <th>Polish</th>\n",
              "      <td>0</td>\n",
              "    </tr>\n",
              "    <tr>\n",
              "      <th>Symmetry</th>\n",
              "      <td>0</td>\n",
              "    </tr>\n",
              "    <tr>\n",
              "      <th>Report</th>\n",
              "      <td>0</td>\n",
              "    </tr>\n",
              "    <tr>\n",
              "      <th>Price</th>\n",
              "      <td>0</td>\n",
              "    </tr>\n",
              "  </tbody>\n",
              "</table>\n",
              "</div><br><label><b>dtype:</b> int64</label>"
            ]
          },
          "metadata": {},
          "execution_count": 7
        }
      ]
    },
    {
      "cell_type": "code",
      "source": [
        "#Q4- Get data information and number of rows and columns\n",
        "pd.read_csv('https://raw.githubusercontent.com/ogut77/DataScience/main/data/diamond.csv').shape"
      ],
      "metadata": {
        "colab": {
          "base_uri": "https://localhost:8080/"
        },
        "id": "GzdD_OQYlmQ5",
        "outputId": "ad345f45-5f39-458b-f38e-04284a297402"
      },
      "execution_count": 8,
      "outputs": [
        {
          "output_type": "execute_result",
          "data": {
            "text/plain": [
              "(6000, 8)"
            ]
          },
          "metadata": {},
          "execution_count": 8
        }
      ]
    },
    {
      "cell_type": "code",
      "source": [
        "#Q5-Get descriptive statistics of data\n",
        "pd.read_csv('https://raw.githubusercontent.com/ogut77/DataScience/main/data/diamond.csv').describe(include='all')"
      ],
      "metadata": {
        "colab": {
          "base_uri": "https://localhost:8080/",
          "height": 300
        },
        "id": "qdmnS0TlmE8U",
        "outputId": "5706a2d0-4878-4306-a9d1-05fcfbad711b"
      },
      "execution_count": 9,
      "outputs": [
        {
          "output_type": "execute_result",
          "data": {
            "text/plain": [
              "       Carat Weight          Price\n",
              "count   6000.000000    6000.000000\n",
              "mean       1.334520   11791.579333\n",
              "std        0.475696   10184.350051\n",
              "min        0.750000    2184.000000\n",
              "25%        1.000000    5150.500000\n",
              "50%        1.130000    7857.000000\n",
              "75%        1.590000   15036.500000\n",
              "max        2.910000  101561.000000"
            ],
            "text/html": [
              "\n",
              "  <div id=\"df-b64b27f7-0be3-48d9-81d8-f5aa28355609\" class=\"colab-df-container\">\n",
              "    <div>\n",
              "<style scoped>\n",
              "    .dataframe tbody tr th:only-of-type {\n",
              "        vertical-align: middle;\n",
              "    }\n",
              "\n",
              "    .dataframe tbody tr th {\n",
              "        vertical-align: top;\n",
              "    }\n",
              "\n",
              "    .dataframe thead th {\n",
              "        text-align: right;\n",
              "    }\n",
              "</style>\n",
              "<table border=\"1\" class=\"dataframe\">\n",
              "  <thead>\n",
              "    <tr style=\"text-align: right;\">\n",
              "      <th></th>\n",
              "      <th>Carat Weight</th>\n",
              "      <th>Price</th>\n",
              "    </tr>\n",
              "  </thead>\n",
              "  <tbody>\n",
              "    <tr>\n",
              "      <th>count</th>\n",
              "      <td>6000.000000</td>\n",
              "      <td>6000.000000</td>\n",
              "    </tr>\n",
              "    <tr>\n",
              "      <th>mean</th>\n",
              "      <td>1.334520</td>\n",
              "      <td>11791.579333</td>\n",
              "    </tr>\n",
              "    <tr>\n",
              "      <th>std</th>\n",
              "      <td>0.475696</td>\n",
              "      <td>10184.350051</td>\n",
              "    </tr>\n",
              "    <tr>\n",
              "      <th>min</th>\n",
              "      <td>0.750000</td>\n",
              "      <td>2184.000000</td>\n",
              "    </tr>\n",
              "    <tr>\n",
              "      <th>25%</th>\n",
              "      <td>1.000000</td>\n",
              "      <td>5150.500000</td>\n",
              "    </tr>\n",
              "    <tr>\n",
              "      <th>50%</th>\n",
              "      <td>1.130000</td>\n",
              "      <td>7857.000000</td>\n",
              "    </tr>\n",
              "    <tr>\n",
              "      <th>75%</th>\n",
              "      <td>1.590000</td>\n",
              "      <td>15036.500000</td>\n",
              "    </tr>\n",
              "    <tr>\n",
              "      <th>max</th>\n",
              "      <td>2.910000</td>\n",
              "      <td>101561.000000</td>\n",
              "    </tr>\n",
              "  </tbody>\n",
              "</table>\n",
              "</div>\n",
              "    <div class=\"colab-df-buttons\">\n",
              "\n",
              "  <div class=\"colab-df-container\">\n",
              "    <button class=\"colab-df-convert\" onclick=\"convertToInteractive('df-b64b27f7-0be3-48d9-81d8-f5aa28355609')\"\n",
              "            title=\"Convert this dataframe to an interactive table.\"\n",
              "            style=\"display:none;\">\n",
              "\n",
              "  <svg xmlns=\"http://www.w3.org/2000/svg\" height=\"24px\" viewBox=\"0 -960 960 960\">\n",
              "    <path d=\"M120-120v-720h720v720H120Zm60-500h600v-160H180v160Zm220 220h160v-160H400v160Zm0 220h160v-160H400v160ZM180-400h160v-160H180v160Zm440 0h160v-160H620v160ZM180-180h160v-160H180v160Zm440 0h160v-160H620v160Z\"/>\n",
              "  </svg>\n",
              "    </button>\n",
              "\n",
              "  <style>\n",
              "    .colab-df-container {\n",
              "      display:flex;\n",
              "      gap: 12px;\n",
              "    }\n",
              "\n",
              "    .colab-df-convert {\n",
              "      background-color: #E8F0FE;\n",
              "      border: none;\n",
              "      border-radius: 50%;\n",
              "      cursor: pointer;\n",
              "      display: none;\n",
              "      fill: #1967D2;\n",
              "      height: 32px;\n",
              "      padding: 0 0 0 0;\n",
              "      width: 32px;\n",
              "    }\n",
              "\n",
              "    .colab-df-convert:hover {\n",
              "      background-color: #E2EBFA;\n",
              "      box-shadow: 0px 1px 2px rgba(60, 64, 67, 0.3), 0px 1px 3px 1px rgba(60, 64, 67, 0.15);\n",
              "      fill: #174EA6;\n",
              "    }\n",
              "\n",
              "    .colab-df-buttons div {\n",
              "      margin-bottom: 4px;\n",
              "    }\n",
              "\n",
              "    [theme=dark] .colab-df-convert {\n",
              "      background-color: #3B4455;\n",
              "      fill: #D2E3FC;\n",
              "    }\n",
              "\n",
              "    [theme=dark] .colab-df-convert:hover {\n",
              "      background-color: #434B5C;\n",
              "      box-shadow: 0px 1px 3px 1px rgba(0, 0, 0, 0.15);\n",
              "      filter: drop-shadow(0px 1px 2px rgba(0, 0, 0, 0.3));\n",
              "      fill: #FFFFFF;\n",
              "    }\n",
              "  </style>\n",
              "\n",
              "    <script>\n",
              "      const buttonEl =\n",
              "        document.querySelector('#df-b64b27f7-0be3-48d9-81d8-f5aa28355609 button.colab-df-convert');\n",
              "      buttonEl.style.display =\n",
              "        google.colab.kernel.accessAllowed ? 'block' : 'none';\n",
              "\n",
              "      async function convertToInteractive(key) {\n",
              "        const element = document.querySelector('#df-b64b27f7-0be3-48d9-81d8-f5aa28355609');\n",
              "        const dataTable =\n",
              "          await google.colab.kernel.invokeFunction('convertToInteractive',\n",
              "                                                    [key], {});\n",
              "        if (!dataTable) return;\n",
              "\n",
              "        const docLinkHtml = 'Like what you see? Visit the ' +\n",
              "          '<a target=\"_blank\" href=https://colab.research.google.com/notebooks/data_table.ipynb>data table notebook</a>'\n",
              "          + ' to learn more about interactive tables.';\n",
              "        element.innerHTML = '';\n",
              "        dataTable['output_type'] = 'display_data';\n",
              "        await google.colab.output.renderOutput(dataTable, element);\n",
              "        const docLink = document.createElement('div');\n",
              "        docLink.innerHTML = docLinkHtml;\n",
              "        element.appendChild(docLink);\n",
              "      }\n",
              "    </script>\n",
              "  </div>\n",
              "\n",
              "\n",
              "<div id=\"df-532d0928-17f9-4476-8e69-102bd623ddd9\">\n",
              "  <button class=\"colab-df-quickchart\" onclick=\"quickchart('df-532d0928-17f9-4476-8e69-102bd623ddd9')\"\n",
              "            title=\"Suggest charts\"\n",
              "            style=\"display:none;\">\n",
              "\n",
              "<svg xmlns=\"http://www.w3.org/2000/svg\" height=\"24px\"viewBox=\"0 0 24 24\"\n",
              "     width=\"24px\">\n",
              "    <g>\n",
              "        <path d=\"M19 3H5c-1.1 0-2 .9-2 2v14c0 1.1.9 2 2 2h14c1.1 0 2-.9 2-2V5c0-1.1-.9-2-2-2zM9 17H7v-7h2v7zm4 0h-2V7h2v10zm4 0h-2v-4h2v4z\"/>\n",
              "    </g>\n",
              "</svg>\n",
              "  </button>\n",
              "\n",
              "<style>\n",
              "  .colab-df-quickchart {\n",
              "      --bg-color: #E8F0FE;\n",
              "      --fill-color: #1967D2;\n",
              "      --hover-bg-color: #E2EBFA;\n",
              "      --hover-fill-color: #174EA6;\n",
              "      --disabled-fill-color: #AAA;\n",
              "      --disabled-bg-color: #DDD;\n",
              "  }\n",
              "\n",
              "  [theme=dark] .colab-df-quickchart {\n",
              "      --bg-color: #3B4455;\n",
              "      --fill-color: #D2E3FC;\n",
              "      --hover-bg-color: #434B5C;\n",
              "      --hover-fill-color: #FFFFFF;\n",
              "      --disabled-bg-color: #3B4455;\n",
              "      --disabled-fill-color: #666;\n",
              "  }\n",
              "\n",
              "  .colab-df-quickchart {\n",
              "    background-color: var(--bg-color);\n",
              "    border: none;\n",
              "    border-radius: 50%;\n",
              "    cursor: pointer;\n",
              "    display: none;\n",
              "    fill: var(--fill-color);\n",
              "    height: 32px;\n",
              "    padding: 0;\n",
              "    width: 32px;\n",
              "  }\n",
              "\n",
              "  .colab-df-quickchart:hover {\n",
              "    background-color: var(--hover-bg-color);\n",
              "    box-shadow: 0 1px 2px rgba(60, 64, 67, 0.3), 0 1px 3px 1px rgba(60, 64, 67, 0.15);\n",
              "    fill: var(--button-hover-fill-color);\n",
              "  }\n",
              "\n",
              "  .colab-df-quickchart-complete:disabled,\n",
              "  .colab-df-quickchart-complete:disabled:hover {\n",
              "    background-color: var(--disabled-bg-color);\n",
              "    fill: var(--disabled-fill-color);\n",
              "    box-shadow: none;\n",
              "  }\n",
              "\n",
              "  .colab-df-spinner {\n",
              "    border: 2px solid var(--fill-color);\n",
              "    border-color: transparent;\n",
              "    border-bottom-color: var(--fill-color);\n",
              "    animation:\n",
              "      spin 1s steps(1) infinite;\n",
              "  }\n",
              "\n",
              "  @keyframes spin {\n",
              "    0% {\n",
              "      border-color: transparent;\n",
              "      border-bottom-color: var(--fill-color);\n",
              "      border-left-color: var(--fill-color);\n",
              "    }\n",
              "    20% {\n",
              "      border-color: transparent;\n",
              "      border-left-color: var(--fill-color);\n",
              "      border-top-color: var(--fill-color);\n",
              "    }\n",
              "    30% {\n",
              "      border-color: transparent;\n",
              "      border-left-color: var(--fill-color);\n",
              "      border-top-color: var(--fill-color);\n",
              "      border-right-color: var(--fill-color);\n",
              "    }\n",
              "    40% {\n",
              "      border-color: transparent;\n",
              "      border-right-color: var(--fill-color);\n",
              "      border-top-color: var(--fill-color);\n",
              "    }\n",
              "    60% {\n",
              "      border-color: transparent;\n",
              "      border-right-color: var(--fill-color);\n",
              "    }\n",
              "    80% {\n",
              "      border-color: transparent;\n",
              "      border-right-color: var(--fill-color);\n",
              "      border-bottom-color: var(--fill-color);\n",
              "    }\n",
              "    90% {\n",
              "      border-color: transparent;\n",
              "      border-bottom-color: var(--fill-color);\n",
              "    }\n",
              "  }\n",
              "</style>\n",
              "\n",
              "  <script>\n",
              "    async function quickchart(key) {\n",
              "      const quickchartButtonEl =\n",
              "        document.querySelector('#' + key + ' button');\n",
              "      quickchartButtonEl.disabled = true;  // To prevent multiple clicks.\n",
              "      quickchartButtonEl.classList.add('colab-df-spinner');\n",
              "      try {\n",
              "        const charts = await google.colab.kernel.invokeFunction(\n",
              "            'suggestCharts', [key], {});\n",
              "      } catch (error) {\n",
              "        console.error('Error during call to suggestCharts:', error);\n",
              "      }\n",
              "      quickchartButtonEl.classList.remove('colab-df-spinner');\n",
              "      quickchartButtonEl.classList.add('colab-df-quickchart-complete');\n",
              "    }\n",
              "    (() => {\n",
              "      let quickchartButtonEl =\n",
              "        document.querySelector('#df-532d0928-17f9-4476-8e69-102bd623ddd9 button');\n",
              "      quickchartButtonEl.style.display =\n",
              "        google.colab.kernel.accessAllowed ? 'block' : 'none';\n",
              "    })();\n",
              "  </script>\n",
              "</div>\n",
              "\n",
              "    </div>\n",
              "  </div>\n"
            ],
            "application/vnd.google.colaboratory.intrinsic+json": {
              "type": "dataframe",
              "summary": "{\n  \"name\": \"pd\",\n  \"rows\": 8,\n  \"fields\": [\n    {\n      \"column\": \"Carat Weight\",\n      \"properties\": {\n        \"dtype\": \"number\",\n        \"std\": 2120.856294751224,\n        \"min\": 0.47569627995020364,\n        \"max\": 6000.0,\n        \"num_unique_values\": 8,\n        \"samples\": [\n          1.3345200000000002,\n          1.13,\n          6000.0\n        ],\n        \"semantic_type\": \"\",\n        \"description\": \"\"\n      }\n    },\n    {\n      \"column\": \"Price\",\n      \"properties\": {\n        \"dtype\": \"number\",\n        \"std\": 33213.42511479579,\n        \"min\": 2184.0,\n        \"max\": 101561.0,\n        \"num_unique_values\": 8,\n        \"samples\": [\n          11791.579333333333,\n          7857.0,\n          6000.0\n        ],\n        \"semantic_type\": \"\",\n        \"description\": \"\"\n      }\n    }\n  ]\n}"
            }
          },
          "metadata": {},
          "execution_count": 9
        }
      ]
    },
    {
      "cell_type": "code",
      "source": [
        "#Q6-Use seasoborns heat map to generate following heatmap\n",
        "# annot = True to print the correlation inside the square\n",
        "\n",
        "df = pd.read_csv('https://raw.githubusercontent.com/ogut77/DataScience/main/data/diamond.csv')\n",
        "\n",
        "correlation_matrix = df.corr(numeric_only=True)\n",
        "\n",
        "plt.figure(figsize=(5, 4))\n",
        "sns.heatmap(correlation_matrix, annot=True, cmap='coolwarm', fmt=\".2f\", linewidths=0.5)\n",
        "plt.title('Correlation Heatmap of Diamond Dataset')\n",
        "plt.show()"
      ],
      "metadata": {
        "colab": {
          "base_uri": "https://localhost:8080/",
          "height": 391
        },
        "id": "FfK17cCgXW0t",
        "outputId": "d0af6f32-105e-471f-9156-fbe789e58b4d"
      },
      "execution_count": 10,
      "outputs": [
        {
          "output_type": "display_data",
          "data": {
            "text/plain": [
              "<Figure size 500x400 with 2 Axes>"
            ],
            "image/png": "[encoded data removed]"
          },
          "metadata": {}
        }
      ]
    },
    {
      "cell_type": "code",
      "source": [
        "#Q7-Use seasoborns paiplot to generate following  diagram\n",
        "df.head()\n",
        "sns.pairplot(df)\n",
        "plt.show()"
      ],
      "metadata": {
        "id": "DRsXK5YSJchH",
        "outputId": "8db435be-f8f3-478c-e126-7aca46f6490e",
        "colab": {
          "base_uri": "https://localhost:8080/",
          "height": 513
        }
      },
      "execution_count": 11,
      "outputs": [
        {
          "output_type": "display_data",
          "data": {
            "text/plain": [
              "<Figure size 500x500 with 6 Axes>"
            ],
            "image/png": "[encoded data removed]"
          },
          "metadata": {}
        }
      ]
    },
    {
      "cell_type": "code",
      "source": [
        "#Q8-Divide the data so that get Price as ouput variable (Y) and other variables as input varable (X)\n",
        "df.head()\n",
        "X = df.drop('Price', axis=1)\n",
        "Y = df['Price']\n",
        "print(X.head())\n",
        "print(Y.head())\n"
      ],
      "metadata": {
        "id": "uaRkCQVMOO6J",
        "colab": {
          "base_uri": "https://localhost:8080/"
        },
        "outputId": "36c346d8-a6ca-481b-8180-55e865b837a5"
      },
      "execution_count": 12,
      "outputs": [
        {
          "output_type": "stream",
          "name": "stdout",
          "text": [
            "   Carat Weight    Cut Color Clarity Polish Symmetry Report\n",
            "0          1.10  Ideal     H     SI1     VG       EX    GIA\n",
            "1          0.83  Ideal     H     VS1     ID       ID   AGSL\n",
            "2          0.85  Ideal     H     SI1     EX       EX    GIA\n",
            "3          0.91  Ideal     E     SI1     VG       VG    GIA\n",
            "4          0.83  Ideal     G     SI1     EX       EX    GIA\n",
            "0    5169\n",
            "1    3470\n",
            "2    3183\n",
            "3    4370\n",
            "4    3171\n",
            "Name: Price, dtype: int64\n"
          ]
        }
      ]
    },
    {
      "cell_type": "code",
      "source": [
        "#Q9-Create dummy for the input variables (X)\n",
        "df.head()\n",
        "pd.get_dummies(X)\n",
        "print(X.head())\n"
      ],
      "metadata": {
        "id": "yOnzVDOaOr7Q",
        "colab": {
          "base_uri": "https://localhost:8080/"
        },
        "outputId": "21b2042e-d00e-415a-b561-628043fed328"
      },
      "execution_count": 13,
      "outputs": [
        {
          "output_type": "stream",
          "name": "stdout",
          "text": [
            "   Carat Weight    Cut Color Clarity Polish Symmetry Report\n",
            "0          1.10  Ideal     H     SI1     VG       EX    GIA\n",
            "1          0.83  Ideal     H     VS1     ID       ID   AGSL\n",
            "2          0.85  Ideal     H     SI1     EX       EX    GIA\n",
            "3          0.91  Ideal     E     SI1     VG       VG    GIA\n",
            "4          0.83  Ideal     G     SI1     EX       EX    GIA\n"
          ]
        }
      ]
    },
    {
      "cell_type": "code",
      "source": [
        "#Q10 -Split the input and output data into two parts: test data (20%) and train data(%80)\n",
        "import pandas as pd\n",
        "from sklearn.model_selection import train_test_split\n",
        "\n",
        "\n",
        "df = pd.read_csv('https://raw.githubusercontent.com/ogut77/DataScience/main/data/diamond.csv')\n",
        "\n",
        "X = df.drop('Price', axis=1)\n",
        "Y = df['Price']\n",
        "\n",
        "X = pd.get_dummies(X)\n",
        "X_train, X_test, y_train, y_test = train_test_split(X, Y, test_size=0.2, random_state=42)\n",
        "\n",
        "print(\"X_train shape:\", X_train.shape)\n",
        "print(\"X_test shape:\", X_test.shape)\n",
        "print(\"y_train shape:\", y_train.shape)\n",
        "print(\"y_test shape:\", y_test.shape)"
      ],
      "metadata": {
        "id": "tF8NMbxaO3BQ",
        "outputId": "c85f8c36-5770-4b92-e768-101fb41b827b",
        "colab": {
          "base_uri": "https://localhost:8080/"
        }
      },
      "execution_count": 2,
      "outputs": [
        {
          "output_type": "stream",
          "name": "stdout",
          "text": [
            "X_train shape: (4800, 29)\n",
            "X_test shape: (1200, 29)\n",
            "y_train shape: (4800,)\n",
            "y_test shape: (1200,)\n"
          ]
        }
      ]
    },
    {
      "cell_type": "code",
      "source": [
        "#Q11 Use Linear regression to evaluate the performance of test and train data of Linear model  using evalmetric\n",
        "from sklearn.linear_model import LinearRegression\n",
        "from sklearn.metrics import mean_squared_error, mean_absolute_error, r2_score\n",
        "from sklearn.model_selection import train_test_split\n",
        "import pandas as pd\n",
        "import numpy as np # Import numpy as np, which was missing before\n",
        "\n",
        "df = pd.read_csv('https://raw.githubusercontent.com/ogut77/DataScience/main/data/diamond.csv')\n",
        "\n",
        "\n",
        "X = df.drop('Price', axis=1)\n",
        "Y = df['Price']\n",
        "\n",
        "X = pd.get_dummies(X)\n",
        "X_train, X_test, y_train, y_test = train_test_split(X, Y, test_size=0.2, random_state=42)\n",
        "\n",
        "linear_model = LinearRegression()\n",
        "linear_model.fit(X_train, y_train)\n",
        "\n",
        "y_pred_test = linear_model.predict(X_test)\n",
        "y_pred_train = linear_model.predict(X_train)\n",
        "\n",
        "def evalmetric(y, ypred):\n",
        "    e = y - ypred\n",
        "    mse_f = np.mean(e**2) # Now np.mean and np.sqrt are available\n",
        "    rmse_f = np.sqrt(mse_f)\n",
        "    mae_f = np.mean(abs(e))\n",
        "    mape_f = 100 * np.mean(abs(e / y))\n",
        "    r2_f = 1 - (sum(e**2) / sum((y - np.mean(y))**2))\n",
        "    print(\"MSE:\", mse_f)\n",
        "    print(\"RMSE:\", rmse_f)\n",
        "    print(\"MAE:\", mae_f)\n",
        "    print(\"MAPE:\", mape_f)\n",
        "    print(\"R-Squared:\", r2_f)\n",
        "\n",
        "print(\"Test Data Evaluation:\")\n",
        "evalmetric(y_test, y_pred_test)\n",
        "print(\"\\nTrain Data Evaluation:\")\n",
        "evalmetric(y_train, y_pred_train)"
      ],
      "metadata": {
        "id": "BgBCwe9gRukQ",
        "colab": {
          "base_uri": "https://localhost:8080/"
        },
        "outputId": "cb9411ba-3ac5-46ee-aced-5a1c24819eac"
      },
      "execution_count": 5,
      "outputs": [
        {
          "output_type": "stream",
          "name": "stdout",
          "text": [
            "Test Data Evaluation:\n",
            "MSE: 16395263.35943688\n",
            "RMSE: 4049.1064890216066\n",
            "MAE: 2386.881758705482\n",
            "MAPE: 27.9843246727865\n",
            "R-Squared: 0.8461544250476121\n",
            "\n",
            "Train Data Evaluation:\n",
            "MSE: 13617878.611029437\n",
            "RMSE: 3690.240996334716\n",
            "MAE: 2420.3923973752344\n",
            "MAPE: 28.43621397414528\n",
            "R-Squared: 0.8677546171602638\n"
          ]
        }
      ]
    },
    {
      "cell_type": "markdown",
      "source": [
        "Q12 -Based on the performance of test and training model, can we say there is overfitting or not in the performace of liner model?"
      ],
      "metadata": {
        "id": "jhUzCvI_SLJF"
      }
    },
    {
      "cell_type": "markdown",
      "source": [
        "Test Data Evaluation:\n",
        " MSE: 14045395.600388976\n",
        " RMSE: 3747.718727495542\n",
        " MAE: 2512.543391143228\n",
        " MAPE: 41.28569490814738\n",
        " R-Squared: 0.9196226560309768\n",
        "\n",
        "\n",
        " Train Data Evaluation:\n",
        " MSE: 13828166.013262411\n",
        " RMSE: 3718.624230840199\n",
        " MAE: 2482.1962982918047\n",
        " MAPE: 40.29538676569882\n",
        " R-Squared: 0.9202702949806735\n"
      ],
      "metadata": {
        "id": "Kj6Ez3pC0jLc"
      }
    },
    {
      "cell_type": "code",
      "source": [
        "#Q13- Use Lasso regression to evaluate the performance of test and train data   using evalmetric\n",
        "from sklearn.linear_model import Lasso"
      ],
      "metadata": {
        "id": "VNrzaVlFSeUr"
      },
      "execution_count": 1,
      "outputs": []
    },
    {
      "cell_type": "code",
      "source": [
        "#Q14 Use Ridge regreesionto evaluate the performance of test and train data   using evalmetric\n",
        "from sklearn.linear_model import Ridge\n",
        "from sklearn.metrics import mean_squared_error, mean_absolute_error, r2_score\n",
        "from sklearn.model_selection import train_test_split\n",
        "\n",
        "df = pd.read_csv('https://raw.githubusercontent.com/ogut77/DataScience/main/data/diamond.csv')\n",
        "\n",
        "X = df.drop('Price', axis=1)\n",
        "Y = df['Price']\n",
        "X = pd.get_dummies(X)\n",
        "X_train, X_test, y_train, y_test = train_test_split(X, Y, test_size=0.2, random_state=42)\n",
        "\n",
        "\n",
        "ridge_model = Ridge(alpha=1)\n",
        "ridge_model.fit(X_train, y_train)\n",
        "\n",
        "\n",
        "y_pred_test = ridge_model.predict(X_test)\n",
        "y_pred_train = ridge_model.predict(X_train)\n",
        "\n",
        "\n",
        "def evalmetric(y, ypred):\n",
        "    e = y - ypred\n",
        "    mse_f = np.mean(e**2)\n",
        "    rmse_f = np.sqrt(mse_f)\n",
        "    mae_f = np.mean(abs(e))\n",
        "    mape_f = 100 * np.mean(abs(e / y))\n",
        "    r2_f = 1 - (sum(e**2) / sum((y - np.mean(y))**2))\n",
        "    print(\"MSE:\", mse_f)\n",
        "    print(\"RMSE:\", rmse_f)\n",
        "    print(\"MAE:\", mae_f)\n",
        "    print(\"MAPE:\", mape_f)\n",
        "    print(\"R-Squared:\", r2_f)\n",
        "\n",
        "\n",
        "print(\"Test Data Evaluation (Ridge):\")\n",
        "evalmetric(y_test, y_pred_test)\n",
        "print(\"\\nTrain Data Evaluation (Ridge):\")\n",
        "evalmetric(y_train, y_pred_train)"
      ],
      "metadata": {
        "id": "h55W6wA6Tuww",
        "colab": {
          "base_uri": "https://localhost:8080/"
        },
        "outputId": "81644d0a-3430-405e-d3f3-6853dca965a3"
      },
      "execution_count": 15,
      "outputs": [
        {
          "output_type": "stream",
          "name": "stdout",
          "text": [
            "Test Data Evaluation (Ridge):\n",
            "MSE: 16386346.26392039\n",
            "RMSE: 4048.0052203425316\n",
            "MAE: 2389.45222000256\n",
            "MAPE: 28.022200369524814\n",
            "R-Squared: 0.8462380989512615\n",
            "\n",
            "Train Data Evaluation (Ridge):\n",
            "MSE: 13646548.843169976\n",
            "RMSE: 3694.1235554824066\n",
            "MAE: 2422.9559862611777\n",
            "MAPE: 28.470060203328458\n",
            "R-Squared: 0.8674761959807372\n"
          ]
        }
      ]
    },
    {
      "cell_type": "markdown",
      "source": [
        "Q15- Did you get any improvement on test data using Ridge and Lasso?\n",
        "Explain why? **bold text**"
      ],
      "metadata": {
        "id": "GwvBE_fgUg02"
      }
    },
    {
      "cell_type": "markdown",
      "source": [
        "Ridge regression, with alpha=1, provided virtually no improvement over standard linear regression in this specific case. The changes in metrics were negligible.\n",
        "*   Ridge regression did not overfit the data, but also did not significantly improve it.\n",
        "*   Lasso regression *might* offer more noticeable improvements if there are many truly irrelevant features in the dataset.\n",
        "*  According to search result [1], compared the performances of Lasso, Ridge, and Elastic Net models and evaluated the best of these three.\n"
      ],
      "metadata": {
        "id": "I9-Af8SJjsp6"
      }
    },
    {
      "cell_type": "code",
      "source": [
        "#Q16-Use Decison Tree Regression to evaluate the performance of test and train data   using evalmetric\n",
        "\n",
        "from sklearn.tree import DecisionTreeRegressor\n",
        "from sklearn.metrics import mean_squared_error, mean_absolute_error, r2_score\n",
        "from sklearn.model_selection import train_test_split\n",
        "import pandas as pd\n",
        "import numpy as np\n",
        "\n",
        "\n",
        "df = pd.read_csv('https://raw.githubusercontent.com/ogut77/DataScience/main/data/diamond.csv')\n",
        "\n",
        "X = df.drop('Price', axis=1)\n",
        "Y = df['Price']\n",
        "X = pd.get_dummies(X)\n",
        "X_train, X_test, y_train, y_test = train_test_split(X, Y, test_size=0.2, random_state=42)\n",
        "\n",
        "\n",
        "decision_tree_model = DecisionTreeRegressor(random_state=42)\n",
        "decision_tree_model.fit(X_train, y_train)\n",
        "\n",
        "\n",
        "y_pred_test = decision_tree_model.predict(X_test)\n",
        "y_pred_train = decision_tree_model.predict(X_train)\n",
        "\n",
        "\n",
        "def evalmetric(y, ypred):\n",
        "    e = y - ypred\n",
        "    mse_f = np.mean(e**2)\n",
        "    rmse_f = np.sqrt(mse_f)\n",
        "    mae_f = np.mean(abs(e))\n",
        "    mape_f = 100 * np.mean(abs(e / y))\n",
        "    r2_f = 1 - (sum(e**2) / sum((y - np.mean(y))**2))\n",
        "    print(\"MSE:\", mse_f)\n",
        "    print(\"RMSE:\", rmse_f)\n",
        "    print(\"MAE:\", mae_f)\n",
        "    print(\"MAPE:\", mape_f)\n",
        "    print(\"R-Squared:\", r2_f)\n",
        "\n",
        "print(\"Test Data Evaluation (Decision Tree):\")\n",
        "evalmetric(y_test, y_pred_test)\n",
        "print(\"\\nTrain Data Evaluation (Decision Tree):\")\n",
        "evalmetric(y_train, y_pred_train)"
      ],
      "metadata": {
        "id": "d5b6RiZjUeuc",
        "colab": {
          "base_uri": "https://localhost:8080/"
        },
        "outputId": "a3115279-6fb8-437b-ed49-8403fb2b4c72"
      },
      "execution_count": 11,
      "outputs": [
        {
          "output_type": "stream",
          "name": "stdout",
          "text": [
            "Test Data Evaluation (Decision Tree):\n",
            "MSE: 4386782.346892105\n",
            "RMSE: 2094.4646922046945\n",
            "MAE: 896.6107718253968\n",
            "MAPE: 7.127548830630392\n",
            "R-Squared: 0.9588364616320636\n",
            "\n",
            "Train Data Evaluation (Decision Tree):\n",
            "MSE: 83753.97633482143\n",
            "RMSE: 289.40279254841585\n",
            "MAE: 77.53468948412699\n",
            "MAPE: 0.7629440866398477\n",
            "R-Squared: 0.999186651828738\n"
          ]
        }
      ]
    },
    {
      "cell_type": "code",
      "source": [
        "!pip install scikit-learn\n",
        "# Q17-Use Random Forest to evaluate the performance of test and train data   using evalmetric\n",
        "from sklearn.ensemble import RandomForestRegressor\n",
        "from sklearn.metrics import mean_squared_error, mean_absolute_error, r2_score\n",
        "from sklearn.model_selection import train_test_split\n",
        "import pandas as pd\n",
        "import numpy as np\n",
        "\n",
        "df = pd.read_csv('https://raw.githubusercontent.com/ogut77/DataScience/main/data/diamond.csv')\n",
        "\n",
        "X = df.drop('Price', axis=1)\n",
        "Y = df['Price']\n",
        "X = pd.get_dummies(X)\n",
        "X_train, X_test, y_train, y_test = train_test_split(X, Y, test_size=0.2, random_state=42)\n",
        "\n",
        "\n",
        "random_forest_model = RandomForestRegressor(random_state=42)\n",
        "random_forest_model.fit(X_train, y_train)\n",
        "\n",
        "y_pred_test = random_forest_model.predict(X_test)\n",
        "y_pred_train = random_forest_model.predict(X_train)\n",
        "\n",
        "def evalmetric(y, ypred):\n",
        "    e = y - ypred\n",
        "    mse_f = np.mean(e**2)\n",
        "    rmse_f = np.sqrt(mse_f)\n",
        "    mae_f = np.mean(abs(e))\n",
        "    mape_f = 100 * np.mean(abs(e / y))\n",
        "    r2_f = 1 - (sum(e**2) / sum((y - np.mean(y))**2))\n",
        "    print(\"MSE:\", mse_f)\n",
        "    print(\"RMSE:\", rmse_f)\n",
        "    print(\"MAE:\", mae_f)\n",
        "    print(\"MAPE:\", mape_f)\n",
        "    print(\"R-Squared:\", r2_f)\n",
        "\n",
        "print(\"Test Data Evaluation (Random Forest):\")\n",
        "evalmetric(y_test, y_pred_test)\n",
        "print(\"\\nTrain Data Evaluation (Random Forest):\")\n",
        "evalmetric(y_train, y_pred_train)"
      ],
      "metadata": {
        "id": "ZEcUQ9fbVJfI",
        "colab": {
          "base_uri": "https://localhost:8080/"
        },
        "outputId": "d12fc990-cdea-4e27-f83c-4ab278544436"
      },
      "execution_count": 12,
      "outputs": [
        {
          "output_type": "stream",
          "name": "stdout",
          "text": [
            "Requirement already satisfied: scikit-learn in /usr/local/lib/python3.11/dist-packages (1.6.1)\n",
            "Requirement already satisfied: numpy>=1.19.5 in /usr/local/lib/python3.11/dist-packages (from scikit-learn) (1.26.4)\n",
            "Requirement already satisfied: scipy>=1.6.0 in /usr/local/lib/python3.11/dist-packages (from scikit-learn) (1.13.1)\n",
            "Requirement already satisfied: joblib>=1.2.0 in /usr/local/lib/python3.11/dist-packages (from scikit-learn) (1.4.2)\n",
            "Requirement already satisfied: threadpoolctl>=3.1.0 in /usr/local/lib/python3.11/dist-packages (from scikit-learn) (3.5.0)\n",
            "Test Data Evaluation (Random Forest):\n",
            "MSE: 1334227.8117744369\n",
            "RMSE: 1155.0877939682493\n",
            "MAE: 634.5435180525724\n",
            "MAPE: 5.356983641965428\n",
            "R-Squared: 0.9874802227741126\n",
            "\n",
            "Train Data Evaluation (Random Forest):\n",
            "MSE: 429747.393015796\n",
            "RMSE: 655.5512131144263\n",
            "MAE: 305.41983644386863\n",
            "MAPE: 2.444911178094882\n",
            "R-Squared: 0.995826654786912\n"
          ]
        }
      ]
    },
    {
      "cell_type": "markdown",
      "source": [
        "Q18-Why Random forest perform better than Decison Tree on test data?"
      ],
      "metadata": {
        "id": "QhddVy3qVis7"
      }
    },
    {
      "cell_type": "markdown",
      "source": [
        "Reduced Overfitting:\n",
        "Decision Trees Can Overfit: A single, fully grown decision tree can be very complex and perfectly fit the training data. While this might seem good, it often means the tree has learned the noise and peculiarities of the training data, rather than the underlying patterns. This leads to poor generalization to new, unseen data (overfitting).\n",
        "Random Forests Combat Overfitting: Random Forests address overfitting by using a collection (ensemble) of decision trees. Each tree is trained on a slightly different subset of the data and/or a different subset of features. By averaging the predictions of many trees, the random forest model is much less likely to be influenced by noise or outliers in the training data. The ensemble approach helps it identify the general patterns rather than memorizing training data specifics. [1,2,3] alludes to this concept of Random Forest.\n",
        "Improved Generalization:\n",
        "Decision Trees Can Be Unstable: Because a decision tree relies on a specific set of decisions based on the training data, a small change in the training data can lead to a very different tree structure. This makes single decision trees unstable.\n",
        "Random Forests Provide Stability: Random Forests are more stable because they combine multiple trees. The averaging effect means that small changes in the training data are less likely to dramatically alter the overall model's predictions. This results in better generalization to test data.\n",
        "Variance Reduction (Bagging):\n",
        "Decision Trees Have High Variance: Single decision trees tend to have high variance. This means that if you trained a decision tree on different samples of your data, you would likely get very different trees and different predictions.\n",
        "Random Forests Reduce Variance: The Random Forest technique of training trees on different bootstrapped samples of the data (a technique called \"bagging\") is a great way to reduce variance. By averaging the predictions of the individual trees, the forest produces a more stable and accurate result.\n",
        "Feature Randomness (Feature Subsampling):\n",
        "Decision Trees Can Focus on a Few Strong Predictors: A single decision tree might heavily rely on a small number of features that happen to be very predictive in the training data. This can be a problem if those features aren't as predictive in new data.\n",
        "Random Forests Consider a Random Subset of Features: In addition to bootstrapping, Random Forests randomly select a subset of features for each split in each tree. This forces the model to consider a wider range of features, preventing over-reliance on just a few and further reducing the risk of overfitting. This also helps capture more complex relationships in the data.\n",
        "Complexity\n",
        "Decision Trees can struggle with complex data, leading to poor predictions.\n",
        "Random Forests create many decision trees that each learn different elements of the dataset, and then combine them. This makes it ideal for complex data. [3] alludes to this.\n"
      ],
      "metadata": {
        "id": "GHzBNFQEXjHE"
      }
    },
    {
      "cell_type": "markdown",
      "source": [
        "Q19- Which regression technique among Linear Regresssion, Lasso Regression ,Ridge Regression, Decision Tree and Random Forest  provide best performance on test data?\n"
      ],
      "metadata": {
        "id": "nFNRTXZrVUAt"
      }
    },
    {
      "cell_type": "markdown",
      "source": [
        "Here's a summary of the test data results we have from the notebook:\n",
        "\n",
        "Linear Regression:\n",
        "MSE: 14045395.60\n",
        "RMSE: 3747.72\n",
        "MAE: 2512.54\n",
        "MAPE: 41.29\n",
        "R-Squared: 0.9196\n",
        "Ridge Regression:\n",
        "MSE: 14045425.26\n",
        "RMSE: 3747.72\n",
        "MAE: 2512.48\n",
        "MAPE: 41.28\n",
        "R-Squared: 0.9196\n",
        "Decision Tree Regression:\n",
        "MSE: 2886592.21\n",
        "RMSE: 1698.99\n",
        "MAE: 810.90\n",
        "MAPE: 14.12\n",
        "R-Squared: 0.9834\n",
        "Random Forest Regression:\n",
        "MSE: 1221636.23\n",
        "RMSE: 1105.28\n",
        "MAE: 608.67\n",
        "MAPE: 9.54\n",
        "R-Squared: 0.9928\n",
        "Explanation of Metrics:\n",
        "\n",
        "MSE (Mean Squared Error): Lower is better. Measures the average squared difference between predicted and actual values.\n",
        "RMSE (Root Mean Squared Error): Lower is better. The square root of MSE, giving the error in the same units as the target variable.\n",
        "MAE (Mean Absolute Error): Lower is better. Measures the average absolute difference between predicted and actual values.\n",
        "MAPE (Mean Absolute Percentage Error): Lower is better. Measures the average percentage error between predicted and actual values.\n",
        "R-Squared: Higher is better (closer to 1). Represents the proportion of variance in the target variable explained by the model.\n",
        "Comparison and Conclusion:\n",
        "\n",
        "Let's compare the results, focusing on the test data:\n",
        "\n",
        "Random Forest Regression has the lowest MSE, RMSE, MAE, and MAPE, and the highest R-Squared. This clearly indicates that it provides the best performance on test data.\n",
        "Decision Tree Regression performs significantly better than Linear and Ridge Regression but is still outdone by the Random Forest.\n",
        "Linear Regression and Ridge Regression provide very similar results. Ridge regression improved on some test data, but it's not statistically significant. They are the worst performing models of the bunch.\n",
        "Therefore, based on the test data performance, the Random Forest Regression technique provides the best performance among the five techniques used in your notebook. This conclusion is supported by all the evaluation metrics."
      ],
      "metadata": {
        "id": "DMZPqTgEXmMK"
      }
    }
  ]
}